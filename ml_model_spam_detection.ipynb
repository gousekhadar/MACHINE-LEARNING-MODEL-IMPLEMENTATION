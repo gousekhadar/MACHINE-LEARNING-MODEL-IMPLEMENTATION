# Spam Detection Model using Scikit-learn

import pandas as pd
import numpy as np
from sklearn.model_selection import train_test_split
from sklearn.feature_extraction.text import CountVectorizer
from sklearn.naive_bayes import MultinomialNB
from sklearn.metrics import accuracy_score, classification_report, confusion_matrix
import seaborn as sns
import matplotlib.pyplot as plt

# Step 1: Create sample dataset
data = pd.DataFrame({
    'label': ['ham', 'spam', 'ham', 'ham', 'spam', 'ham', 'spam', 'spam', 'ham', 'ham'],
    'message': [
        "Hi, how are you?",
        "Congratulations! You've won a $1000 gift card. Call now!",
        "Are we meeting today?",
        "Don't forget the meeting at 5 PM",
        "URGENT! You have won a free ticket to Bahamas!",
        "Let's catch up tomorrow",
        "Win cash prizes now by entering the contest",
        "You are selected for a lucky draw, reply ASAP",
        "Can you send me the assignment?",
        "See you at the game tonight"
    ]
})

# Step 2: Preprocessing
data['label_num'] = data.label.map({'ham': 0, 'spam': 1})
X = data['message']
y = data['label_num']

# Step 3: Vectorize text
vectorizer = CountVectorizer()
X_vectorized = vectorizer.fit_transform(X)

# Step 4: Split data
X_train, X_test, y_train, y_test = train_test_split(X_vectorized, y, test_size=0.3, random_state=42)

# Step 5: Train the model
model = MultinomialNB()
model.fit(X_train, y_train)

# Step 6: Make predictions
y_pred = model.predict(X_test)

# Step 7: Evaluate
accuracy = accuracy_score(y_test, y_pred)
report = classification_report(y_test, y_pred)
conf_matrix = confusion_matrix(y_test, y_pred)

print("Accuracy:", accuracy)
print("\nClassification Report:\n", report)

# Step 8: Visualize confusion matrix
sns.heatmap(conf_matrix, annot=True, fmt='d', cmap='Greens', xticklabels=['Ham', 'Spam'], yticklabels=['Ham', 'Spam'])
plt.title('Confusion Matrix')
plt.xlabel('Predicted')
plt.ylabel('Actual')
plt.show()
